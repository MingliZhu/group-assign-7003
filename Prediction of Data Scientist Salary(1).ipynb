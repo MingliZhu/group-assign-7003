{
 "cells": [
  {
   "cell_type": "markdown",
   "id": "688eeab9",
   "metadata": {},
   "source": [
    "## 1. Initial Question"
   ]
  },
  {
   "cell_type": "markdown",
   "id": "f718a340",
   "metadata": {},
   "source": [
    "\n",
    "\n",
    "What are the factors impacting the salary of a data scientist?\n",
    "What is the salary trend for data scientist? and its comparison to living cost?\n",
    "What is the predicted salary for Data Scientist in next 5 years?\n",
    "\n",
    "1. Many people thinks that tech companies pays well above average and cost of living. Is this true?\n",
    "2. Many people thinks that you don’t need a degree to work in these tech companies. Is this true?\n",
    "3. Are women underpaid in these companies?\n",
    "4. Are non-whites paid lower than whites in these companies?\n",
    "5. Does years in company affect value of granted stock and bonus?\n",
    "6. For the same position or job level, does location affect base salary regardless of gender and race?\n"
   ]
  },
  {
   "cell_type": "markdown",
   "id": "2b0187a2",
   "metadata": {},
   "source": [
    "## 2. Overview and Motivation"
   ]
  },
  {
   "cell_type": "markdown",
   "id": "6fd50c2c",
   "metadata": {},
   "source": [
    "The Harvard Business Review indicates data scientist as the sexist job of the 21st century. \n",
    "\n",
    "According to the Glassdoor 2022, data scientist rank the top 3 best job in America for 7 years running. This ranking is based on the career opportunites rating, number of opening jobs, and the average salaries. The median base salary is $120,000. The job opening were also spiking up from 1,736 in 2016 to 10,071 in 2022. \n",
    "\n",
    "Motivation?"
   ]
  },
  {
   "cell_type": "markdown",
   "id": "ef76d2ce",
   "metadata": {},
   "source": [
    "## 3. Related Work"
   ]
  },
  {
   "cell_type": "markdown",
   "id": "fefcb0e7",
   "metadata": {},
   "source": [
    "<b> 1. Salary Prediction in the IT Job Market with Few High-Dimensional Samples: A Spanish Case Study </b><br>\n",
    "This paper study predict the salary of IT jobs using data from Tecnoempleo, an e-Recruitment website. The result shows that experience, job stability or certain roles contribute significantly to the salary. Besides, decision trees yield a bettery accuracy (84%) than voting committe based tools.\n",
    "\n",
    "<b> 2. Gender-based salary differences in academic medicine: a retrospective review of data from six public medical centers in the Western USA </b> <br>\n",
    "The paper study the effects of gender, rank and speciality of the acedemic medical centers in the Western USA. among the 799 faculty members, it is found that male are paid significantly higher than feamle in general surgery and obstetrics and gynaecology. It is estimated female are paid ~$75,000 lower than their male colleague."
   ]
  },
  {
   "cell_type": "markdown",
   "id": "dd3273bf",
   "metadata": {},
   "source": [
    "## 4. Data Cleaning / Data Preprocessing"
   ]
  },
  {
   "cell_type": "code",
   "execution_count": 1,
   "id": "4b051d1a",
   "metadata": {},
   "outputs": [],
   "source": [
    "import pandas as pd\n",
    "data = pd.read_excel('Levels_Fyi_Salary_Data.xlsx') # Read the first sheet by default"
   ]
  },
  {
   "cell_type": "code",
   "execution_count": 2,
   "id": "7acb1f73",
   "metadata": {},
   "outputs": [],
   "source": [
    "df = pd.DataFrame(data)"
   ]
  },
  {
   "cell_type": "code",
   "execution_count": 3,
   "id": "c9ab9b1f",
   "metadata": {},
   "outputs": [
    {
     "data": {
      "text/plain": [
       "(62642, 29)"
      ]
     },
     "execution_count": 3,
     "metadata": {},
     "output_type": "execute_result"
    }
   ],
   "source": [
    "df.shape"
   ]
  },
  {
   "cell_type": "markdown",
   "id": "9d7f8aef",
   "metadata": {},
   "source": [
    "### 4.1 Duplicate value handling\n",
    "No duplicate data"
   ]
  },
  {
   "cell_type": "code",
   "execution_count": 4,
   "id": "fce812cb",
   "metadata": {},
   "outputs": [
    {
     "data": {
      "text/plain": [
       "0"
      ]
     },
     "execution_count": 4,
     "metadata": {},
     "output_type": "execute_result"
    }
   ],
   "source": [
    "df.duplicated().sum()  # no duplicate values"
   ]
  },
  {
   "cell_type": "markdown",
   "id": "8b0a6d9d",
   "metadata": {},
   "source": [
    "### 4.2Missing value handling"
   ]
  },
  {
   "cell_type": "markdown",
   "id": "b9843056",
   "metadata": {},
   "source": [
    "The missing proportion of each variable in the data can be analyzed by the following function<br>\n",
    "Three schemes: remove missing values, fill missing values with mean, fill missing values with statistical values (max/min)<br>\n",
    "In the following processing, the commented out plan is to delete the corresponding sample, and there are filled plans, which can be selected as needed."
   ]
  },
  {
   "cell_type": "code",
   "execution_count": 5,
   "id": "5d868b2a",
   "metadata": {},
   "outputs": [
    {
     "name": "stdout",
     "output_type": "stream",
     "text": [
      "dmaid            0.003193\n",
      "company          0.007982\n",
      "level            0.189968\n",
      "tag              1.363303\n",
      "gender          31.193129\n",
      "otherdetails    35.931164\n",
      "Education       51.518151\n",
      "Race            64.198142\n",
      "dtype: float64\n"
     ]
    }
   ],
   "source": [
    "def missing_percent(df):\n",
    "    nan_percent = 100*(df.isnull().sum()/len(df))\n",
    "    nan_percent = nan_percent[nan_percent > 0].sort_values()\n",
    "    return(nan_percent)\n",
    "print(missing_percent(df))"
   ]
  },
  {
   "cell_type": "markdown",
   "id": "d5b70066",
   "metadata": {},
   "source": [
    "#### company field"
   ]
  },
  {
   "cell_type": "code",
   "execution_count": 6,
   "id": "b97a256c",
   "metadata": {},
   "outputs": [
    {
     "data": {
      "text/plain": [
       "array(['Oracle', 'eBay', 'Amazon', ..., 'VmWare', 'SalesForce',\n",
       "       'tableau software'], dtype=object)"
      ]
     },
     "execution_count": 6,
     "metadata": {},
     "output_type": "execute_result"
    }
   ],
   "source": [
    "df.company.unique() # The company field is missing and cannot be filled with common methods. It is recommended to delete it, or fill it with a new class"
   ]
  },
  {
   "cell_type": "code",
   "execution_count": 21,
   "id": "95d9e0ac",
   "metadata": {},
   "outputs": [],
   "source": [
    "# df = df[df['company'].notnull()]\n",
    "# print(df.shape)  # You can see that there are 5 less data after deletion"
   ]
  },
  {
   "cell_type": "code",
   "execution_count": 7,
   "id": "9382b727",
   "metadata": {},
   "outputs": [],
   "source": [
    "df['company'] = df['company'].fillna('unknown')"
   ]
  },
  {
   "cell_type": "markdown",
   "id": "4a045787",
   "metadata": {},
   "source": [
    "#### dmaid field"
   ]
  },
  {
   "cell_type": "markdown",
   "id": "eebdc178",
   "metadata": {},
   "source": [
    "Fill with mean"
   ]
  },
  {
   "cell_type": "code",
   "execution_count": 8,
   "id": "66deb689",
   "metadata": {},
   "outputs": [
    {
     "data": {
      "text/plain": [
       "2"
      ]
     },
     "execution_count": 8,
     "metadata": {},
     "output_type": "execute_result"
    }
   ],
   "source": [
    "df.dmaid.isnull().sum()"
   ]
  },
  {
   "cell_type": "code",
   "execution_count": 9,
   "id": "420e6075",
   "metadata": {},
   "outputs": [],
   "source": [
    "df['dmaid'] = df['dmaid'].fillna(df['dmaid'].mean()) "
   ]
  },
  {
   "cell_type": "markdown",
   "id": "1153ce7e",
   "metadata": {},
   "source": [
    "#### level字段\n",
    "The value of the level field is non-numeric, and the number of missing data is 119. It is the same as the above company data. You can consider deleting or filling it."
   ]
  },
  {
   "cell_type": "code",
   "execution_count": 10,
   "id": "47527869",
   "metadata": {},
   "outputs": [
    {
     "data": {
      "text/plain": [
       "119"
      ]
     },
     "execution_count": 10,
     "metadata": {},
     "output_type": "execute_result"
    }
   ],
   "source": [
    "df.level.isnull().sum()"
   ]
  },
  {
   "cell_type": "code",
   "execution_count": 11,
   "id": "deab1312",
   "metadata": {},
   "outputs": [],
   "source": [
    "# 删除\n",
    "# df = df[df['level'].notnull()]\n",
    "# print(df.shape)"
   ]
  },
  {
   "cell_type": "code",
   "execution_count": 11,
   "id": "e7feabab",
   "metadata": {},
   "outputs": [],
   "source": [
    "# 填充\"unknown\"\n",
    "df['level'] = df['level'].fillna('unknown')"
   ]
  },
  {
   "cell_type": "markdown",
   "id": "381fcadd",
   "metadata": {},
   "source": [
    "#### tag field\n",
    "The value of the field is non-numeric. Similarly, the number is 854, which can be deleted or filled with \"unknown\" or other characters."
   ]
  },
  {
   "cell_type": "code",
   "execution_count": 12,
   "id": "27142a55",
   "metadata": {},
   "outputs": [
    {
     "data": {
      "text/plain": [
       "0                                   NaN\n",
       "1                                   NaN\n",
       "2                                   NaN\n",
       "3                                   NaN\n",
       "4                                   NaN\n",
       "                      ...              \n",
       "62637    Distributed Systems (Back-End)\n",
       "62638                        Full Stack\n",
       "62639                        Full Stack\n",
       "62640                               iOS\n",
       "62641                           ML / AI\n",
       "Name: tag, Length: 62642, dtype: object"
      ]
     },
     "execution_count": 12,
     "metadata": {},
     "output_type": "execute_result"
    }
   ],
   "source": [
    "df.tag"
   ]
  },
  {
   "cell_type": "code",
   "execution_count": 13,
   "id": "71ab2f50",
   "metadata": {},
   "outputs": [
    {
     "data": {
      "text/plain": [
       "854"
      ]
     },
     "execution_count": 13,
     "metadata": {},
     "output_type": "execute_result"
    }
   ],
   "source": [
    "df.tag.isnull().sum()"
   ]
  },
  {
   "cell_type": "code",
   "execution_count": 15,
   "id": "eb50967f",
   "metadata": {},
   "outputs": [
    {
     "name": "stdout",
     "output_type": "stream",
     "text": [
      "(61788, 29)\n"
     ]
    }
   ],
   "source": [
    "# df = df[df['tag'].notnull()]\n",
    "# print(df.shape)"
   ]
  },
  {
   "cell_type": "code",
   "execution_count": 14,
   "id": "73f2e652",
   "metadata": {},
   "outputs": [],
   "source": [
    "df['tag'] = df['tag'].fillna('unknown')"
   ]
  },
  {
   "cell_type": "markdown",
   "id": "2cde6b70",
   "metadata": {},
   "source": [
    "###gender field"
   ]
  },
  {
   "cell_type": "code",
   "execution_count": 15,
   "id": "b720a4a2",
   "metadata": {},
   "outputs": [
    {
     "data": {
      "text/plain": [
       "array([nan, 'Male', 'Female', 'Other', 'Title: Senior Software Engineer'],\n",
       "      dtype=object)"
      ]
     },
     "execution_count": 15,
     "metadata": {},
     "output_type": "execute_result"
    }
   ],
   "source": [
    "df.gender.unique()"
   ]
  },
  {
   "cell_type": "code",
   "execution_count": 16,
   "id": "190a5721",
   "metadata": {},
   "outputs": [],
   "source": [
    "df['gender'] = df['gender'].fillna('Other')"
   ]
  },
  {
   "cell_type": "code",
   "execution_count": 18,
   "id": "2628f632",
   "metadata": {},
   "outputs": [
    {
     "data": {
      "text/plain": [
       "(62642, 29)"
      ]
     },
     "execution_count": 18,
     "metadata": {},
     "output_type": "execute_result"
    }
   ],
   "source": [
    "df.shape"
   ]
  },
  {
   "cell_type": "code",
   "execution_count": 19,
   "id": "11de13ba",
   "metadata": {},
   "outputs": [
    {
     "name": "stderr",
     "output_type": "stream",
     "text": [
      "D:\\anoconda\\anaconda\\lib\\site-packages\\ipykernel_launcher.py:1: SettingWithCopyWarning: \n",
      "A value is trying to be set on a copy of a slice from a DataFrame.\n",
      "Try using .loc[row_indexer,col_indexer] = value instead\n",
      "\n",
      "See the caveats in the documentation: https://pandas.pydata.org/pandas-docs/stable/user_guide/indexing.html#returning-a-view-versus-a-copy\n",
      "  \"\"\"Entry point for launching an IPython kernel.\n"
     ]
    }
   ],
   "source": [
    "df[df['gender'] == 'Title: Senior Software Engineer']['gender'] = 'Other'"
   ]
  },
  {
   "cell_type": "markdown",
   "id": "398dc4c0",
   "metadata": {},
   "source": [
    "#### otherdetails field\n",
    "Descriptive field, can be filled with \"unknown\" or not"
   ]
  },
  {
   "cell_type": "code",
   "execution_count": 20,
   "id": "57be57d7",
   "metadata": {},
   "outputs": [
    {
     "data": {
      "text/plain": [
       "array([nan, 'Tons of overtime', 'PhD', ...,\n",
       "       '40k cash split over 2 years. 75k rsus over 4 years. Bonus is median 10% of base per yr.',\n",
       "       '65k of stocks at 5/15/40/40 vesting schedule per year. First job out of college, only internship experience prior',\n",
       "       'industry hire'], dtype=object)"
      ]
     },
     "execution_count": 20,
     "metadata": {},
     "output_type": "execute_result"
    }
   ],
   "source": [
    "df.otherdetails.unique()"
   ]
  },
  {
   "cell_type": "markdown",
   "id": "30801040",
   "metadata": {},
   "source": [
    "#### Education field\n",
    "If the missing ratio is high, it can be filled in as \"unknown\". Subsequent analysis can extract non-unknown samples to analyze the relationship between education and salary or other variables, or make a separate category."
   ]
  },
  {
   "cell_type": "code",
   "execution_count": 21,
   "id": "900846bc",
   "metadata": {},
   "outputs": [
    {
     "data": {
      "text/plain": [
       "array([nan, 'PhD', \"Master's Degree\", \"Bachelor's Degree\", 'Some College',\n",
       "       'Highschool'], dtype=object)"
      ]
     },
     "execution_count": 21,
     "metadata": {},
     "output_type": "execute_result"
    }
   ],
   "source": [
    "df.Education.unique()"
   ]
  },
  {
   "cell_type": "code",
   "execution_count": 22,
   "id": "e28afb5f",
   "metadata": {},
   "outputs": [],
   "source": [
    "df['Education'] = df['Education'].fillna('unknown')"
   ]
  },
  {
   "cell_type": "markdown",
   "id": "9cd30fa3",
   "metadata": {},
   "source": [
    "#### Race field\n",
    "Similar to Education field handling"
   ]
  },
  {
   "cell_type": "code",
   "execution_count": 23,
   "id": "4e9beb1f",
   "metadata": {},
   "outputs": [
    {
     "data": {
      "text/plain": [
       "array([nan, 'White', 'Asian', 'Black', 'Two Or More', 'Hispanic'],\n",
       "      dtype=object)"
      ]
     },
     "execution_count": 23,
     "metadata": {},
     "output_type": "execute_result"
    }
   ],
   "source": [
    "df.Race.unique()"
   ]
  },
  {
   "cell_type": "code",
   "execution_count": 24,
   "id": "4eb5885d",
   "metadata": {},
   "outputs": [],
   "source": [
    "df['Race'] = df['Race'].fillna('unknown')"
   ]
  },
  {
   "cell_type": "code",
   "execution_count": 25,
   "id": "a65df72a",
   "metadata": {},
   "outputs": [
    {
     "name": "stdout",
     "output_type": "stream",
     "text": [
      "otherdetails    35.931164\n",
      "dtype: float64\n"
     ]
    }
   ],
   "source": [
    "print(missing_percent(df))"
   ]
  },
  {
   "cell_type": "markdown",
   "id": "74ef42b9",
   "metadata": {},
   "source": [
    "### 4.3 Formatting\n",
    "Only the timestamp field has a format inconsistency problem"
   ]
  },
  {
   "cell_type": "code",
   "execution_count": 26,
   "id": "10eea89a",
   "metadata": {},
   "outputs": [
    {
     "data": {
      "text/html": [
       "<div>\n",
       "<style scoped>\n",
       "    .dataframe tbody tr th:only-of-type {\n",
       "        vertical-align: middle;\n",
       "    }\n",
       "\n",
       "    .dataframe tbody tr th {\n",
       "        vertical-align: top;\n",
       "    }\n",
       "\n",
       "    .dataframe thead th {\n",
       "        text-align: right;\n",
       "    }\n",
       "</style>\n",
       "<table border=\"1\" class=\"dataframe\">\n",
       "  <thead>\n",
       "    <tr style=\"text-align: right;\">\n",
       "      <th></th>\n",
       "      <th>timestamp</th>\n",
       "      <th>company</th>\n",
       "      <th>level</th>\n",
       "      <th>title</th>\n",
       "      <th>totalyearlycompensation</th>\n",
       "      <th>location</th>\n",
       "      <th>yearsofexperience</th>\n",
       "      <th>yearsatcompany</th>\n",
       "      <th>tag</th>\n",
       "      <th>basesalary</th>\n",
       "      <th>...</th>\n",
       "      <th>Doctorate_Degree</th>\n",
       "      <th>Highschool</th>\n",
       "      <th>Some_College</th>\n",
       "      <th>Race_Asian</th>\n",
       "      <th>Race_White</th>\n",
       "      <th>Race_Two_Or_More</th>\n",
       "      <th>Race_Black</th>\n",
       "      <th>Race_Hispanic</th>\n",
       "      <th>Race</th>\n",
       "      <th>Education</th>\n",
       "    </tr>\n",
       "  </thead>\n",
       "  <tbody>\n",
       "    <tr>\n",
       "      <th>0</th>\n",
       "      <td>2017-07-06 11:33:27</td>\n",
       "      <td>Oracle</td>\n",
       "      <td>L3</td>\n",
       "      <td>Product Manager</td>\n",
       "      <td>127000</td>\n",
       "      <td>Redwood City, CA</td>\n",
       "      <td>1.5</td>\n",
       "      <td>1.5</td>\n",
       "      <td>unknown</td>\n",
       "      <td>107000</td>\n",
       "      <td>...</td>\n",
       "      <td>0</td>\n",
       "      <td>0</td>\n",
       "      <td>0</td>\n",
       "      <td>0</td>\n",
       "      <td>0</td>\n",
       "      <td>0</td>\n",
       "      <td>0</td>\n",
       "      <td>0</td>\n",
       "      <td>unknown</td>\n",
       "      <td>unknown</td>\n",
       "    </tr>\n",
       "    <tr>\n",
       "      <th>1</th>\n",
       "      <td>2017-10-06 17:11:29</td>\n",
       "      <td>eBay</td>\n",
       "      <td>SE 2</td>\n",
       "      <td>Software Engineer</td>\n",
       "      <td>100000</td>\n",
       "      <td>San Francisco, CA</td>\n",
       "      <td>5.0</td>\n",
       "      <td>3.0</td>\n",
       "      <td>unknown</td>\n",
       "      <td>0</td>\n",
       "      <td>...</td>\n",
       "      <td>0</td>\n",
       "      <td>0</td>\n",
       "      <td>0</td>\n",
       "      <td>0</td>\n",
       "      <td>0</td>\n",
       "      <td>0</td>\n",
       "      <td>0</td>\n",
       "      <td>0</td>\n",
       "      <td>unknown</td>\n",
       "      <td>unknown</td>\n",
       "    </tr>\n",
       "    <tr>\n",
       "      <th>2</th>\n",
       "      <td>2017-11-06 14:53:57</td>\n",
       "      <td>Amazon</td>\n",
       "      <td>L7</td>\n",
       "      <td>Product Manager</td>\n",
       "      <td>310000</td>\n",
       "      <td>Seattle, WA</td>\n",
       "      <td>8.0</td>\n",
       "      <td>0.0</td>\n",
       "      <td>unknown</td>\n",
       "      <td>155000</td>\n",
       "      <td>...</td>\n",
       "      <td>0</td>\n",
       "      <td>0</td>\n",
       "      <td>0</td>\n",
       "      <td>0</td>\n",
       "      <td>0</td>\n",
       "      <td>0</td>\n",
       "      <td>0</td>\n",
       "      <td>0</td>\n",
       "      <td>unknown</td>\n",
       "      <td>unknown</td>\n",
       "    </tr>\n",
       "    <tr>\n",
       "      <th>3</th>\n",
       "      <td>6/17/2017 0:23:14</td>\n",
       "      <td>Apple</td>\n",
       "      <td>M1</td>\n",
       "      <td>Software Engineering Manager</td>\n",
       "      <td>372000</td>\n",
       "      <td>Sunnyvale, CA</td>\n",
       "      <td>7.0</td>\n",
       "      <td>5.0</td>\n",
       "      <td>unknown</td>\n",
       "      <td>157000</td>\n",
       "      <td>...</td>\n",
       "      <td>0</td>\n",
       "      <td>0</td>\n",
       "      <td>0</td>\n",
       "      <td>0</td>\n",
       "      <td>0</td>\n",
       "      <td>0</td>\n",
       "      <td>0</td>\n",
       "      <td>0</td>\n",
       "      <td>unknown</td>\n",
       "      <td>unknown</td>\n",
       "    </tr>\n",
       "    <tr>\n",
       "      <th>4</th>\n",
       "      <td>6/20/2017 10:58:51</td>\n",
       "      <td>Microsoft</td>\n",
       "      <td>60</td>\n",
       "      <td>Software Engineer</td>\n",
       "      <td>157000</td>\n",
       "      <td>Mountain View, CA</td>\n",
       "      <td>5.0</td>\n",
       "      <td>3.0</td>\n",
       "      <td>unknown</td>\n",
       "      <td>0</td>\n",
       "      <td>...</td>\n",
       "      <td>0</td>\n",
       "      <td>0</td>\n",
       "      <td>0</td>\n",
       "      <td>0</td>\n",
       "      <td>0</td>\n",
       "      <td>0</td>\n",
       "      <td>0</td>\n",
       "      <td>0</td>\n",
       "      <td>unknown</td>\n",
       "      <td>unknown</td>\n",
       "    </tr>\n",
       "  </tbody>\n",
       "</table>\n",
       "<p>5 rows × 29 columns</p>\n",
       "</div>"
      ],
      "text/plain": [
       "             timestamp    company level                         title  \\\n",
       "0  2017-07-06 11:33:27     Oracle    L3               Product Manager   \n",
       "1  2017-10-06 17:11:29       eBay  SE 2             Software Engineer   \n",
       "2  2017-11-06 14:53:57     Amazon    L7               Product Manager   \n",
       "3    6/17/2017 0:23:14      Apple    M1  Software Engineering Manager   \n",
       "4   6/20/2017 10:58:51  Microsoft    60             Software Engineer   \n",
       "\n",
       "   totalyearlycompensation           location  yearsofexperience  \\\n",
       "0                   127000   Redwood City, CA                1.5   \n",
       "1                   100000  San Francisco, CA                5.0   \n",
       "2                   310000        Seattle, WA                8.0   \n",
       "3                   372000      Sunnyvale, CA                7.0   \n",
       "4                   157000  Mountain View, CA                5.0   \n",
       "\n",
       "   yearsatcompany      tag  basesalary  ...  Doctorate_Degree  Highschool  \\\n",
       "0             1.5  unknown      107000  ...                 0           0   \n",
       "1             3.0  unknown           0  ...                 0           0   \n",
       "2             0.0  unknown      155000  ...                 0           0   \n",
       "3             5.0  unknown      157000  ...                 0           0   \n",
       "4             3.0  unknown           0  ...                 0           0   \n",
       "\n",
       "  Some_College Race_Asian  Race_White  Race_Two_Or_More  Race_Black  \\\n",
       "0            0          0           0                 0           0   \n",
       "1            0          0           0                 0           0   \n",
       "2            0          0           0                 0           0   \n",
       "3            0          0           0                 0           0   \n",
       "4            0          0           0                 0           0   \n",
       "\n",
       "   Race_Hispanic     Race  Education  \n",
       "0              0  unknown    unknown  \n",
       "1              0  unknown    unknown  \n",
       "2              0  unknown    unknown  \n",
       "3              0  unknown    unknown  \n",
       "4              0  unknown    unknown  \n",
       "\n",
       "[5 rows x 29 columns]"
      ]
     },
     "execution_count": 26,
     "metadata": {},
     "output_type": "execute_result"
    }
   ],
   "source": [
    "df.head()"
   ]
  },
  {
   "cell_type": "markdown",
   "id": "7af264d4",
   "metadata": {},
   "source": [
    "#### timestamp Time data format is not uniform"
   ]
  },
  {
   "cell_type": "code",
   "execution_count": 27,
   "id": "064a1248",
   "metadata": {},
   "outputs": [
    {
     "data": {
      "text/plain": [
       "0        2017-07-06 11:33:27\n",
       "1        2017-10-06 17:11:29\n",
       "2        2017-11-06 14:53:57\n",
       "3          6/17/2017 0:23:14\n",
       "4         6/20/2017 10:58:51\n",
       "                ...         \n",
       "62637    2018-09-09 11:52:32\n",
       "62638      9/13/2018 8:23:32\n",
       "62639     9/13/2018 14:35:59\n",
       "62640     9/16/2018 16:10:35\n",
       "62641      1/29/2019 5:12:59\n",
       "Name: timestamp, Length: 62642, dtype: object"
      ]
     },
     "execution_count": 27,
     "metadata": {},
     "output_type": "execute_result"
    }
   ],
   "source": [
    "df.timestamp"
   ]
  },
  {
   "cell_type": "code",
   "execution_count": 28,
   "id": "e2e11010",
   "metadata": {},
   "outputs": [],
   "source": [
    "import datetime\n",
    "def stand_time(time_str):\n",
    "    format_use = \"%Y-%m-%d %H:%M:%S\"\n",
    "    formats = [\n",
    "        \"%Y-%m-%d %H:%M:%S\", \"%m/%d/%Y %H:%M:%S\"]\n",
    "    for s in formats:\n",
    "        try:\n",
    "            temp_time = datetime.datetime.strptime(time_str, s)\n",
    "            return datetime.datetime.strftime(temp_time,format_use)\n",
    "        except:\n",
    "            pass\n",
    "    return None"
   ]
  },
  {
   "cell_type": "code",
   "execution_count": 29,
   "id": "36c0aebf",
   "metadata": {},
   "outputs": [],
   "source": [
    "df.timestamp = [stand_time(str(item)) for item in list(df.timestamp)]"
   ]
  },
  {
   "cell_type": "code",
   "execution_count": 30,
   "id": "f23a3cac",
   "metadata": {},
   "outputs": [
    {
     "data": {
      "text/plain": [
       "0        2017-07-06 11:33:27\n",
       "1        2017-10-06 17:11:29\n",
       "2        2017-11-06 14:53:57\n",
       "3        2017-06-17 00:23:14\n",
       "4        2017-06-20 10:58:51\n",
       "                ...         \n",
       "62637    2018-09-09 11:52:32\n",
       "62638    2018-09-13 08:23:32\n",
       "62639    2018-09-13 14:35:59\n",
       "62640    2018-09-16 16:10:35\n",
       "62641    2019-01-29 05:12:59\n",
       "Name: timestamp, Length: 62642, dtype: object"
      ]
     },
     "execution_count": 30,
     "metadata": {},
     "output_type": "execute_result"
    }
   ],
   "source": [
    "df.timestamp"
   ]
  },
  {
   "cell_type": "markdown",
   "id": "fff2c952",
   "metadata": {},
   "source": [
    "### 4.4Get the target data subset"
   ]
  },
  {
   "cell_type": "code",
   "execution_count": 32,
   "id": "c8a25b19",
   "metadata": {},
   "outputs": [],
   "source": [
    "def get_year(time_str):\n",
    "    temp_time = datetime.datetime.strptime(time_str, \"%Y-%m-%d %H:%M:%S\")\n",
    "    return temp_time.year"
   ]
  },
  {
   "cell_type": "code",
   "execution_count": 33,
   "id": "e5b3f98d",
   "metadata": {},
   "outputs": [],
   "source": [
    "df['year'] = [get_year(item) for item in df.timestamp]"
   ]
  },
  {
   "cell_type": "code",
   "execution_count": 34,
   "id": "2f94d88a",
   "metadata": {},
   "outputs": [],
   "source": [
    "df_use = df[['year','company','level','totalyearlycompensation','basesalary','stockgrantvalue','bonus']]"
   ]
  },
  {
   "cell_type": "code",
   "execution_count": 36,
   "id": "c62adab0",
   "metadata": {},
   "outputs": [
    {
     "data": {
      "text/html": [
       "<div>\n",
       "<style scoped>\n",
       "    .dataframe tbody tr th:only-of-type {\n",
       "        vertical-align: middle;\n",
       "    }\n",
       "\n",
       "    .dataframe tbody tr th {\n",
       "        vertical-align: top;\n",
       "    }\n",
       "\n",
       "    .dataframe thead th {\n",
       "        text-align: right;\n",
       "    }\n",
       "</style>\n",
       "<table border=\"1\" class=\"dataframe\">\n",
       "  <thead>\n",
       "    <tr style=\"text-align: right;\">\n",
       "      <th></th>\n",
       "      <th>year</th>\n",
       "      <th>company</th>\n",
       "      <th>level</th>\n",
       "      <th>totalyearlycompensation</th>\n",
       "      <th>basesalary</th>\n",
       "      <th>stockgrantvalue</th>\n",
       "      <th>bonus</th>\n",
       "    </tr>\n",
       "  </thead>\n",
       "  <tbody>\n",
       "    <tr>\n",
       "      <th>11003</th>\n",
       "      <td>2019</td>\n",
       "      <td>Microsoft</td>\n",
       "      <td>SDE I</td>\n",
       "      <td>10000</td>\n",
       "      <td>1000</td>\n",
       "      <td>1000.0</td>\n",
       "      <td>8000.0</td>\n",
       "    </tr>\n",
       "    <tr>\n",
       "      <th>19972</th>\n",
       "      <td>2020</td>\n",
       "      <td>TCS</td>\n",
       "      <td>Systems Engineer</td>\n",
       "      <td>10000</td>\n",
       "      <td>9000</td>\n",
       "      <td>0.0</td>\n",
       "      <td>1000.0</td>\n",
       "    </tr>\n",
       "    <tr>\n",
       "      <th>15110</th>\n",
       "      <td>2020</td>\n",
       "      <td>Andela</td>\n",
       "      <td>ENG 1</td>\n",
       "      <td>10000</td>\n",
       "      <td>9000</td>\n",
       "      <td>0.0</td>\n",
       "      <td>0.0</td>\n",
       "    </tr>\n",
       "    <tr>\n",
       "      <th>35919</th>\n",
       "      <td>2020</td>\n",
       "      <td>Tata Consultancy Services</td>\n",
       "      <td>SE</td>\n",
       "      <td>10000</td>\n",
       "      <td>7000</td>\n",
       "      <td>1000.0</td>\n",
       "      <td>1000.0</td>\n",
       "    </tr>\n",
       "    <tr>\n",
       "      <th>42702</th>\n",
       "      <td>2021</td>\n",
       "      <td>Red Hat</td>\n",
       "      <td>L3</td>\n",
       "      <td>10000</td>\n",
       "      <td>10000</td>\n",
       "      <td>0.0</td>\n",
       "      <td>0.0</td>\n",
       "    </tr>\n",
       "    <tr>\n",
       "      <th>...</th>\n",
       "      <td>...</td>\n",
       "      <td>...</td>\n",
       "      <td>...</td>\n",
       "      <td>...</td>\n",
       "      <td>...</td>\n",
       "      <td>...</td>\n",
       "      <td>...</td>\n",
       "    </tr>\n",
       "    <tr>\n",
       "      <th>61969</th>\n",
       "      <td>2019</td>\n",
       "      <td>Snap</td>\n",
       "      <td>L8</td>\n",
       "      <td>2500000</td>\n",
       "      <td>400000</td>\n",
       "      <td>2100.0</td>\n",
       "      <td>0.0</td>\n",
       "    </tr>\n",
       "    <tr>\n",
       "      <th>61990</th>\n",
       "      <td>2021</td>\n",
       "      <td>Facebook</td>\n",
       "      <td>E9</td>\n",
       "      <td>4490000</td>\n",
       "      <td>350000</td>\n",
       "      <td>4000.0</td>\n",
       "      <td>140000.0</td>\n",
       "    </tr>\n",
       "    <tr>\n",
       "      <th>61982</th>\n",
       "      <td>2021</td>\n",
       "      <td>Google</td>\n",
       "      <td>L10</td>\n",
       "      <td>4500000</td>\n",
       "      <td>450000</td>\n",
       "      <td>3700.0</td>\n",
       "      <td>350000.0</td>\n",
       "    </tr>\n",
       "    <tr>\n",
       "      <th>61967</th>\n",
       "      <td>2019</td>\n",
       "      <td>Microsoft</td>\n",
       "      <td>80</td>\n",
       "      <td>4950000</td>\n",
       "      <td>850000</td>\n",
       "      <td>3750.0</td>\n",
       "      <td>350000.0</td>\n",
       "    </tr>\n",
       "    <tr>\n",
       "      <th>61991</th>\n",
       "      <td>2021</td>\n",
       "      <td>Facebook</td>\n",
       "      <td>E9</td>\n",
       "      <td>4980000</td>\n",
       "      <td>380000</td>\n",
       "      <td>4400.0</td>\n",
       "      <td>200000.0</td>\n",
       "    </tr>\n",
       "  </tbody>\n",
       "</table>\n",
       "<p>62642 rows × 7 columns</p>\n",
       "</div>"
      ],
      "text/plain": [
       "       year                    company             level  \\\n",
       "11003  2019                  Microsoft             SDE I   \n",
       "19972  2020                        TCS  Systems Engineer   \n",
       "15110  2020                     Andela             ENG 1   \n",
       "35919  2020  Tata Consultancy Services                SE   \n",
       "42702  2021                    Red Hat                L3   \n",
       "...     ...                        ...               ...   \n",
       "61969  2019                       Snap                L8   \n",
       "61990  2021                   Facebook                E9   \n",
       "61982  2021                     Google               L10   \n",
       "61967  2019                  Microsoft                80   \n",
       "61991  2021                   Facebook                E9   \n",
       "\n",
       "       totalyearlycompensation  basesalary  stockgrantvalue     bonus  \n",
       "11003                    10000        1000           1000.0    8000.0  \n",
       "19972                    10000        9000              0.0    1000.0  \n",
       "15110                    10000        9000              0.0       0.0  \n",
       "35919                    10000        7000           1000.0    1000.0  \n",
       "42702                    10000       10000              0.0       0.0  \n",
       "...                        ...         ...              ...       ...  \n",
       "61969                  2500000      400000           2100.0       0.0  \n",
       "61990                  4490000      350000           4000.0  140000.0  \n",
       "61982                  4500000      450000           3700.0  350000.0  \n",
       "61967                  4950000      850000           3750.0  350000.0  \n",
       "61991                  4980000      380000           4400.0  200000.0  \n",
       "\n",
       "[62642 rows x 7 columns]"
      ]
     },
     "execution_count": 36,
     "metadata": {},
     "output_type": "execute_result"
    }
   ],
   "source": [
    "df_use.sort_values(by='totalyearlycompensation')"
   ]
  },
  {
   "cell_type": "markdown",
   "id": "65360b32",
   "metadata": {},
   "source": [
    "Two ideas: 1 is to filter out the basesalary, stockgrantvalue, bonus and the same data as totalyearlycompensation；<br>\n",
    "2 is based on the sum of basesalary, stockgrantvalue, and bonus to obtain totalyearlycompensation, and subsequently this variable is named total to avoid confusion;<br>\n",
    "Not sure which idea you need to use, we believe that the first is to assume that the two data are accurate; the second is to think that the basesalary, stockgrantvalue, bonus data are accurate。<br>\n",
    "After inspection, no inconsistency of the units mentioned in the current data was found. Among the data with low basic salary, most of the salary is less than 10,000 in the case of low level"
   ]
  },
  {
   "cell_type": "code",
   "execution_count": 37,
   "id": "361eb02d",
   "metadata": {},
   "outputs": [
    {
     "data": {
      "text/html": [
       "<div>\n",
       "<style scoped>\n",
       "    .dataframe tbody tr th:only-of-type {\n",
       "        vertical-align: middle;\n",
       "    }\n",
       "\n",
       "    .dataframe tbody tr th {\n",
       "        vertical-align: top;\n",
       "    }\n",
       "\n",
       "    .dataframe thead th {\n",
       "        text-align: right;\n",
       "    }\n",
       "</style>\n",
       "<table border=\"1\" class=\"dataframe\">\n",
       "  <thead>\n",
       "    <tr style=\"text-align: right;\">\n",
       "      <th></th>\n",
       "      <th>year</th>\n",
       "      <th>company</th>\n",
       "      <th>level</th>\n",
       "      <th>totalyearlycompensation</th>\n",
       "      <th>basesalary</th>\n",
       "      <th>stockgrantvalue</th>\n",
       "      <th>bonus</th>\n",
       "    </tr>\n",
       "  </thead>\n",
       "  <tbody>\n",
       "    <tr>\n",
       "      <th>55003</th>\n",
       "      <td>2021</td>\n",
       "      <td>Virtusa</td>\n",
       "      <td>Entry</td>\n",
       "      <td>10000</td>\n",
       "      <td>10000</td>\n",
       "      <td>0.0</td>\n",
       "      <td>0.0</td>\n",
       "    </tr>\n",
       "    <tr>\n",
       "      <th>30149</th>\n",
       "      <td>2020</td>\n",
       "      <td>ZS associates</td>\n",
       "      <td>Associate</td>\n",
       "      <td>10000</td>\n",
       "      <td>9000</td>\n",
       "      <td>0.0</td>\n",
       "      <td>1000.0</td>\n",
       "    </tr>\n",
       "    <tr>\n",
       "      <th>19972</th>\n",
       "      <td>2020</td>\n",
       "      <td>TCS</td>\n",
       "      <td>Systems Engineer</td>\n",
       "      <td>10000</td>\n",
       "      <td>9000</td>\n",
       "      <td>0.0</td>\n",
       "      <td>1000.0</td>\n",
       "    </tr>\n",
       "    <tr>\n",
       "      <th>33972</th>\n",
       "      <td>2020</td>\n",
       "      <td>Accenture</td>\n",
       "      <td>L5</td>\n",
       "      <td>10000</td>\n",
       "      <td>10000</td>\n",
       "      <td>0.0</td>\n",
       "      <td>0.0</td>\n",
       "    </tr>\n",
       "    <tr>\n",
       "      <th>5467</th>\n",
       "      <td>2019</td>\n",
       "      <td>Bukalapak</td>\n",
       "      <td>Designer I</td>\n",
       "      <td>10000</td>\n",
       "      <td>10000</td>\n",
       "      <td>0.0</td>\n",
       "      <td>0.0</td>\n",
       "    </tr>\n",
       "    <tr>\n",
       "      <th>...</th>\n",
       "      <td>...</td>\n",
       "      <td>...</td>\n",
       "      <td>...</td>\n",
       "      <td>...</td>\n",
       "      <td>...</td>\n",
       "      <td>...</td>\n",
       "      <td>...</td>\n",
       "    </tr>\n",
       "    <tr>\n",
       "      <th>34812</th>\n",
       "      <td>2020</td>\n",
       "      <td>Google</td>\n",
       "      <td>L9</td>\n",
       "      <td>1355000</td>\n",
       "      <td>380000</td>\n",
       "      <td>800000.0</td>\n",
       "      <td>175000.0</td>\n",
       "    </tr>\n",
       "    <tr>\n",
       "      <th>10697</th>\n",
       "      <td>2019</td>\n",
       "      <td>Apple</td>\n",
       "      <td>Technical Director</td>\n",
       "      <td>1425000</td>\n",
       "      <td>320000</td>\n",
       "      <td>975000.0</td>\n",
       "      <td>130000.0</td>\n",
       "    </tr>\n",
       "    <tr>\n",
       "      <th>15560</th>\n",
       "      <td>2020</td>\n",
       "      <td>Google</td>\n",
       "      <td>L9</td>\n",
       "      <td>1600000</td>\n",
       "      <td>400000</td>\n",
       "      <td>1000000.0</td>\n",
       "      <td>200000.0</td>\n",
       "    </tr>\n",
       "    <tr>\n",
       "      <th>20561</th>\n",
       "      <td>2020</td>\n",
       "      <td>Google</td>\n",
       "      <td>L10</td>\n",
       "      <td>1650000</td>\n",
       "      <td>450000</td>\n",
       "      <td>800000.0</td>\n",
       "      <td>400000.0</td>\n",
       "    </tr>\n",
       "    <tr>\n",
       "      <th>6259</th>\n",
       "      <td>2019</td>\n",
       "      <td>Microsoft</td>\n",
       "      <td>68</td>\n",
       "      <td>1800000</td>\n",
       "      <td>250000</td>\n",
       "      <td>1000000.0</td>\n",
       "      <td>550000.0</td>\n",
       "    </tr>\n",
       "  </tbody>\n",
       "</table>\n",
       "<p>50198 rows × 7 columns</p>\n",
       "</div>"
      ],
      "text/plain": [
       "       year        company               level  totalyearlycompensation  \\\n",
       "55003  2021        Virtusa               Entry                    10000   \n",
       "30149  2020  ZS associates           Associate                    10000   \n",
       "19972  2020            TCS    Systems Engineer                    10000   \n",
       "33972  2020      Accenture                  L5                    10000   \n",
       "5467   2019      Bukalapak          Designer I                    10000   \n",
       "...     ...            ...                 ...                      ...   \n",
       "34812  2020         Google                  L9                  1355000   \n",
       "10697  2019          Apple  Technical Director                  1425000   \n",
       "15560  2020         Google                  L9                  1600000   \n",
       "20561  2020         Google                 L10                  1650000   \n",
       "6259   2019      Microsoft                  68                  1800000   \n",
       "\n",
       "       basesalary  stockgrantvalue     bonus  \n",
       "55003       10000              0.0       0.0  \n",
       "30149        9000              0.0    1000.0  \n",
       "19972        9000              0.0    1000.0  \n",
       "33972       10000              0.0       0.0  \n",
       "5467        10000              0.0       0.0  \n",
       "...           ...              ...       ...  \n",
       "34812      380000         800000.0  175000.0  \n",
       "10697      320000         975000.0  130000.0  \n",
       "15560      400000        1000000.0  200000.0  \n",
       "20561      450000         800000.0  400000.0  \n",
       "6259       250000        1000000.0  550000.0  \n",
       "\n",
       "[50198 rows x 7 columns]"
      ]
     },
     "execution_count": 37,
     "metadata": {},
     "output_type": "execute_result"
    }
   ],
   "source": [
    "df_use[df_use['totalyearlycompensation'] == (df_use['basesalary']+df_use['stockgrantvalue']+df_use['bonus'])].sort_values(by='totalyearlycompensation')"
   ]
  },
  {
   "cell_type": "code",
   "execution_count": 38,
   "id": "2c7a02dc",
   "metadata": {},
   "outputs": [
    {
     "name": "stderr",
     "output_type": "stream",
     "text": [
      "D:\\anoconda\\anaconda\\lib\\site-packages\\ipykernel_launcher.py:1: SettingWithCopyWarning: \n",
      "A value is trying to be set on a copy of a slice from a DataFrame.\n",
      "Try using .loc[row_indexer,col_indexer] = value instead\n",
      "\n",
      "See the caveats in the documentation: https://pandas.pydata.org/pandas-docs/stable/user_guide/indexing.html#returning-a-view-versus-a-copy\n",
      "  \"\"\"Entry point for launching an IPython kernel.\n"
     ]
    }
   ],
   "source": [
    "df_use['total'] = df_use['basesalary']+df_use['stockgrantvalue']+df_use['bonus']"
   ]
  },
  {
   "cell_type": "code",
   "execution_count": 39,
   "id": "504c4c7a",
   "metadata": {},
   "outputs": [
    {
     "data": {
      "text/html": [
       "<div>\n",
       "<style scoped>\n",
       "    .dataframe tbody tr th:only-of-type {\n",
       "        vertical-align: middle;\n",
       "    }\n",
       "\n",
       "    .dataframe tbody tr th {\n",
       "        vertical-align: top;\n",
       "    }\n",
       "\n",
       "    .dataframe thead th {\n",
       "        text-align: right;\n",
       "    }\n",
       "</style>\n",
       "<table border=\"1\" class=\"dataframe\">\n",
       "  <thead>\n",
       "    <tr style=\"text-align: right;\">\n",
       "      <th></th>\n",
       "      <th>year</th>\n",
       "      <th>company</th>\n",
       "      <th>level</th>\n",
       "      <th>totalyearlycompensation</th>\n",
       "      <th>basesalary</th>\n",
       "      <th>stockgrantvalue</th>\n",
       "      <th>bonus</th>\n",
       "      <th>total</th>\n",
       "    </tr>\n",
       "  </thead>\n",
       "  <tbody>\n",
       "    <tr>\n",
       "      <th>7806</th>\n",
       "      <td>2019</td>\n",
       "      <td>Google</td>\n",
       "      <td>Senior SWE</td>\n",
       "      <td>200000</td>\n",
       "      <td>0</td>\n",
       "      <td>0.0</td>\n",
       "      <td>0.0</td>\n",
       "      <td>0.0</td>\n",
       "    </tr>\n",
       "    <tr>\n",
       "      <th>5983</th>\n",
       "      <td>2019</td>\n",
       "      <td>Google</td>\n",
       "      <td>L5</td>\n",
       "      <td>300000</td>\n",
       "      <td>0</td>\n",
       "      <td>0.0</td>\n",
       "      <td>0.0</td>\n",
       "      <td>0.0</td>\n",
       "    </tr>\n",
       "    <tr>\n",
       "      <th>9852</th>\n",
       "      <td>2019</td>\n",
       "      <td>Lyft</td>\n",
       "      <td>Senior</td>\n",
       "      <td>245000</td>\n",
       "      <td>0</td>\n",
       "      <td>0.0</td>\n",
       "      <td>0.0</td>\n",
       "      <td>0.0</td>\n",
       "    </tr>\n",
       "    <tr>\n",
       "      <th>9853</th>\n",
       "      <td>2019</td>\n",
       "      <td>Lyft</td>\n",
       "      <td>Senior</td>\n",
       "      <td>245000</td>\n",
       "      <td>0</td>\n",
       "      <td>0.0</td>\n",
       "      <td>0.0</td>\n",
       "      <td>0.0</td>\n",
       "    </tr>\n",
       "    <tr>\n",
       "      <th>2504</th>\n",
       "      <td>2018</td>\n",
       "      <td>Intel</td>\n",
       "      <td>Grade 9</td>\n",
       "      <td>185000</td>\n",
       "      <td>0</td>\n",
       "      <td>0.0</td>\n",
       "      <td>0.0</td>\n",
       "      <td>0.0</td>\n",
       "    </tr>\n",
       "    <tr>\n",
       "      <th>...</th>\n",
       "      <td>...</td>\n",
       "      <td>...</td>\n",
       "      <td>...</td>\n",
       "      <td>...</td>\n",
       "      <td>...</td>\n",
       "      <td>...</td>\n",
       "      <td>...</td>\n",
       "      <td>...</td>\n",
       "    </tr>\n",
       "    <tr>\n",
       "      <th>62351</th>\n",
       "      <td>2018</td>\n",
       "      <td>Microsoft</td>\n",
       "      <td>64</td>\n",
       "      <td>250000</td>\n",
       "      <td>1659870</td>\n",
       "      <td>49850.0</td>\n",
       "      <td>31500.0</td>\n",
       "      <td>1741220.0</td>\n",
       "    </tr>\n",
       "    <tr>\n",
       "      <th>6259</th>\n",
       "      <td>2019</td>\n",
       "      <td>Microsoft</td>\n",
       "      <td>68</td>\n",
       "      <td>1800000</td>\n",
       "      <td>250000</td>\n",
       "      <td>1000000.0</td>\n",
       "      <td>550000.0</td>\n",
       "      <td>1800000.0</td>\n",
       "    </tr>\n",
       "    <tr>\n",
       "      <th>62005</th>\n",
       "      <td>2018</td>\n",
       "      <td>Airbnb</td>\n",
       "      <td>L7</td>\n",
       "      <td>675000</td>\n",
       "      <td>260000</td>\n",
       "      <td>1660000.0</td>\n",
       "      <td>0.0</td>\n",
       "      <td>1920000.0</td>\n",
       "    </tr>\n",
       "    <tr>\n",
       "      <th>62423</th>\n",
       "      <td>2018</td>\n",
       "      <td>Facebook</td>\n",
       "      <td>E7</td>\n",
       "      <td>850000</td>\n",
       "      <td>250000</td>\n",
       "      <td>2000000.0</td>\n",
       "      <td>61250.0</td>\n",
       "      <td>2311250.0</td>\n",
       "    </tr>\n",
       "    <tr>\n",
       "      <th>62320</th>\n",
       "      <td>2017</td>\n",
       "      <td>Facebook</td>\n",
       "      <td>E6</td>\n",
       "      <td>718000</td>\n",
       "      <td>205000</td>\n",
       "      <td>2800000.0</td>\n",
       "      <td>41000.0</td>\n",
       "      <td>3046000.0</td>\n",
       "    </tr>\n",
       "  </tbody>\n",
       "</table>\n",
       "<p>62642 rows × 8 columns</p>\n",
       "</div>"
      ],
      "text/plain": [
       "       year    company       level  totalyearlycompensation  basesalary  \\\n",
       "7806   2019     Google  Senior SWE                   200000           0   \n",
       "5983   2019     Google          L5                   300000           0   \n",
       "9852   2019       Lyft      Senior                   245000           0   \n",
       "9853   2019       Lyft      Senior                   245000           0   \n",
       "2504   2018      Intel     Grade 9                   185000           0   \n",
       "...     ...        ...         ...                      ...         ...   \n",
       "62351  2018  Microsoft          64                   250000     1659870   \n",
       "6259   2019  Microsoft          68                  1800000      250000   \n",
       "62005  2018     Airbnb          L7                   675000      260000   \n",
       "62423  2018   Facebook          E7                   850000      250000   \n",
       "62320  2017   Facebook          E6                   718000      205000   \n",
       "\n",
       "       stockgrantvalue     bonus      total  \n",
       "7806               0.0       0.0        0.0  \n",
       "5983               0.0       0.0        0.0  \n",
       "9852               0.0       0.0        0.0  \n",
       "9853               0.0       0.0        0.0  \n",
       "2504               0.0       0.0        0.0  \n",
       "...                ...       ...        ...  \n",
       "62351          49850.0   31500.0  1741220.0  \n",
       "6259         1000000.0  550000.0  1800000.0  \n",
       "62005        1660000.0       0.0  1920000.0  \n",
       "62423        2000000.0   61250.0  2311250.0  \n",
       "62320        2800000.0   41000.0  3046000.0  \n",
       "\n",
       "[62642 rows x 8 columns]"
      ]
     },
     "execution_count": 39,
     "metadata": {},
     "output_type": "execute_result"
    }
   ],
   "source": [
    "df_use.sort_values(by='total')"
   ]
  },
  {
   "cell_type": "code",
   "execution_count": 43,
   "id": "e1651a10",
   "metadata": {},
   "outputs": [
    {
     "data": {
      "text/html": [
       "<div>\n",
       "<style scoped>\n",
       "    .dataframe tbody tr th:only-of-type {\n",
       "        vertical-align: middle;\n",
       "    }\n",
       "\n",
       "    .dataframe tbody tr th {\n",
       "        vertical-align: top;\n",
       "    }\n",
       "\n",
       "    .dataframe thead th {\n",
       "        text-align: right;\n",
       "    }\n",
       "</style>\n",
       "<table border=\"1\" class=\"dataframe\">\n",
       "  <thead>\n",
       "    <tr style=\"text-align: right;\">\n",
       "      <th></th>\n",
       "      <th>year</th>\n",
       "      <th>company</th>\n",
       "      <th>level</th>\n",
       "      <th>totalyearlycompensation</th>\n",
       "      <th>basesalary</th>\n",
       "      <th>stockgrantvalue</th>\n",
       "      <th>bonus</th>\n",
       "      <th>total</th>\n",
       "    </tr>\n",
       "  </thead>\n",
       "  <tbody>\n",
       "    <tr>\n",
       "      <th>7806</th>\n",
       "      <td>2019</td>\n",
       "      <td>Google</td>\n",
       "      <td>Senior SWE</td>\n",
       "      <td>200000</td>\n",
       "      <td>0</td>\n",
       "      <td>0.0</td>\n",
       "      <td>0.0</td>\n",
       "      <td>0.0</td>\n",
       "    </tr>\n",
       "    <tr>\n",
       "      <th>5983</th>\n",
       "      <td>2019</td>\n",
       "      <td>Google</td>\n",
       "      <td>L5</td>\n",
       "      <td>300000</td>\n",
       "      <td>0</td>\n",
       "      <td>0.0</td>\n",
       "      <td>0.0</td>\n",
       "      <td>0.0</td>\n",
       "    </tr>\n",
       "    <tr>\n",
       "      <th>9852</th>\n",
       "      <td>2019</td>\n",
       "      <td>Lyft</td>\n",
       "      <td>Senior</td>\n",
       "      <td>245000</td>\n",
       "      <td>0</td>\n",
       "      <td>0.0</td>\n",
       "      <td>0.0</td>\n",
       "      <td>0.0</td>\n",
       "    </tr>\n",
       "    <tr>\n",
       "      <th>9853</th>\n",
       "      <td>2019</td>\n",
       "      <td>Lyft</td>\n",
       "      <td>Senior</td>\n",
       "      <td>245000</td>\n",
       "      <td>0</td>\n",
       "      <td>0.0</td>\n",
       "      <td>0.0</td>\n",
       "      <td>0.0</td>\n",
       "    </tr>\n",
       "    <tr>\n",
       "      <th>2504</th>\n",
       "      <td>2018</td>\n",
       "      <td>Intel</td>\n",
       "      <td>Grade 9</td>\n",
       "      <td>185000</td>\n",
       "      <td>0</td>\n",
       "      <td>0.0</td>\n",
       "      <td>0.0</td>\n",
       "      <td>0.0</td>\n",
       "    </tr>\n",
       "    <tr>\n",
       "      <th>...</th>\n",
       "      <td>...</td>\n",
       "      <td>...</td>\n",
       "      <td>...</td>\n",
       "      <td>...</td>\n",
       "      <td>...</td>\n",
       "      <td>...</td>\n",
       "      <td>...</td>\n",
       "      <td>...</td>\n",
       "    </tr>\n",
       "    <tr>\n",
       "      <th>62351</th>\n",
       "      <td>2018</td>\n",
       "      <td>Microsoft</td>\n",
       "      <td>64</td>\n",
       "      <td>250000</td>\n",
       "      <td>1659870</td>\n",
       "      <td>49850.0</td>\n",
       "      <td>31500.0</td>\n",
       "      <td>1741220.0</td>\n",
       "    </tr>\n",
       "    <tr>\n",
       "      <th>6259</th>\n",
       "      <td>2019</td>\n",
       "      <td>Microsoft</td>\n",
       "      <td>68</td>\n",
       "      <td>1800000</td>\n",
       "      <td>250000</td>\n",
       "      <td>1000000.0</td>\n",
       "      <td>550000.0</td>\n",
       "      <td>1800000.0</td>\n",
       "    </tr>\n",
       "    <tr>\n",
       "      <th>62005</th>\n",
       "      <td>2018</td>\n",
       "      <td>Airbnb</td>\n",
       "      <td>L7</td>\n",
       "      <td>675000</td>\n",
       "      <td>260000</td>\n",
       "      <td>1660000.0</td>\n",
       "      <td>0.0</td>\n",
       "      <td>1920000.0</td>\n",
       "    </tr>\n",
       "    <tr>\n",
       "      <th>62423</th>\n",
       "      <td>2018</td>\n",
       "      <td>Facebook</td>\n",
       "      <td>E7</td>\n",
       "      <td>850000</td>\n",
       "      <td>250000</td>\n",
       "      <td>2000000.0</td>\n",
       "      <td>61250.0</td>\n",
       "      <td>2311250.0</td>\n",
       "    </tr>\n",
       "    <tr>\n",
       "      <th>62320</th>\n",
       "      <td>2017</td>\n",
       "      <td>Facebook</td>\n",
       "      <td>E6</td>\n",
       "      <td>718000</td>\n",
       "      <td>205000</td>\n",
       "      <td>2800000.0</td>\n",
       "      <td>41000.0</td>\n",
       "      <td>3046000.0</td>\n",
       "    </tr>\n",
       "  </tbody>\n",
       "</table>\n",
       "<p>62642 rows × 8 columns</p>\n",
       "</div>"
      ],
      "text/plain": [
       "       year    company       level  totalyearlycompensation  basesalary  \\\n",
       "7806   2019     Google  Senior SWE                   200000           0   \n",
       "5983   2019     Google          L5                   300000           0   \n",
       "9852   2019       Lyft      Senior                   245000           0   \n",
       "9853   2019       Lyft      Senior                   245000           0   \n",
       "2504   2018      Intel     Grade 9                   185000           0   \n",
       "...     ...        ...         ...                      ...         ...   \n",
       "62351  2018  Microsoft          64                   250000     1659870   \n",
       "6259   2019  Microsoft          68                  1800000      250000   \n",
       "62005  2018     Airbnb          L7                   675000      260000   \n",
       "62423  2018   Facebook          E7                   850000      250000   \n",
       "62320  2017   Facebook          E6                   718000      205000   \n",
       "\n",
       "       stockgrantvalue     bonus      total  \n",
       "7806               0.0       0.0        0.0  \n",
       "5983               0.0       0.0        0.0  \n",
       "9852               0.0       0.0        0.0  \n",
       "9853               0.0       0.0        0.0  \n",
       "2504               0.0       0.0        0.0  \n",
       "...                ...       ...        ...  \n",
       "62351          49850.0   31500.0  1741220.0  \n",
       "6259         1000000.0  550000.0  1800000.0  \n",
       "62005        1660000.0       0.0  1920000.0  \n",
       "62423        2000000.0   61250.0  2311250.0  \n",
       "62320        2800000.0   41000.0  3046000.0  \n",
       "\n",
       "[62642 rows x 8 columns]"
      ]
     },
     "execution_count": 43,
     "metadata": {},
     "output_type": "execute_result"
    }
   ],
   "source": [
    "df_use.sort_values(by='basesalary')"
   ]
  },
  {
   "cell_type": "code",
   "execution_count": 51,
   "id": "c6867039",
   "metadata": {},
   "outputs": [
    {
     "data": {
      "text/html": [
       "<div>\n",
       "<style scoped>\n",
       "    .dataframe tbody tr th:only-of-type {\n",
       "        vertical-align: middle;\n",
       "    }\n",
       "\n",
       "    .dataframe tbody tr th {\n",
       "        vertical-align: top;\n",
       "    }\n",
       "\n",
       "    .dataframe thead th {\n",
       "        text-align: right;\n",
       "    }\n",
       "</style>\n",
       "<table border=\"1\" class=\"dataframe\">\n",
       "  <thead>\n",
       "    <tr style=\"text-align: right;\">\n",
       "      <th></th>\n",
       "      <th>year</th>\n",
       "      <th>company</th>\n",
       "      <th>level</th>\n",
       "      <th>totalyearlycompensation</th>\n",
       "      <th>basesalary</th>\n",
       "      <th>stockgrantvalue</th>\n",
       "      <th>bonus</th>\n",
       "      <th>total</th>\n",
       "    </tr>\n",
       "  </thead>\n",
       "  <tbody>\n",
       "    <tr>\n",
       "      <th>1</th>\n",
       "      <td>2017</td>\n",
       "      <td>eBay</td>\n",
       "      <td>SE 2</td>\n",
       "      <td>100000</td>\n",
       "      <td>0</td>\n",
       "      <td>0.0</td>\n",
       "      <td>0.0</td>\n",
       "      <td>0.0</td>\n",
       "    </tr>\n",
       "    <tr>\n",
       "      <th>6978</th>\n",
       "      <td>2019</td>\n",
       "      <td>Amazon</td>\n",
       "      <td>SDE II</td>\n",
       "      <td>160000</td>\n",
       "      <td>0</td>\n",
       "      <td>0.0</td>\n",
       "      <td>0.0</td>\n",
       "      <td>0.0</td>\n",
       "    </tr>\n",
       "    <tr>\n",
       "      <th>6986</th>\n",
       "      <td>2019</td>\n",
       "      <td>Cvent</td>\n",
       "      <td>Lead software engineer</td>\n",
       "      <td>167000</td>\n",
       "      <td>0</td>\n",
       "      <td>0.0</td>\n",
       "      <td>0.0</td>\n",
       "      <td>0.0</td>\n",
       "    </tr>\n",
       "    <tr>\n",
       "      <th>6993</th>\n",
       "      <td>2019</td>\n",
       "      <td>NetApp</td>\n",
       "      <td>Level III</td>\n",
       "      <td>129000</td>\n",
       "      <td>0</td>\n",
       "      <td>0.0</td>\n",
       "      <td>0.0</td>\n",
       "      <td>0.0</td>\n",
       "    </tr>\n",
       "    <tr>\n",
       "      <th>6997</th>\n",
       "      <td>2019</td>\n",
       "      <td>EPAM</td>\n",
       "      <td>M2</td>\n",
       "      <td>65000</td>\n",
       "      <td>0</td>\n",
       "      <td>0.0</td>\n",
       "      <td>0.0</td>\n",
       "      <td>0.0</td>\n",
       "    </tr>\n",
       "    <tr>\n",
       "      <th>...</th>\n",
       "      <td>...</td>\n",
       "      <td>...</td>\n",
       "      <td>...</td>\n",
       "      <td>...</td>\n",
       "      <td>...</td>\n",
       "      <td>...</td>\n",
       "      <td>...</td>\n",
       "      <td>...</td>\n",
       "    </tr>\n",
       "    <tr>\n",
       "      <th>3716</th>\n",
       "      <td>2019</td>\n",
       "      <td>Groupon</td>\n",
       "      <td>PM 2</td>\n",
       "      <td>150000</td>\n",
       "      <td>0</td>\n",
       "      <td>0.0</td>\n",
       "      <td>0.0</td>\n",
       "      <td>0.0</td>\n",
       "    </tr>\n",
       "    <tr>\n",
       "      <th>3720</th>\n",
       "      <td>2019</td>\n",
       "      <td>Salesforce</td>\n",
       "      <td>Lead MTS</td>\n",
       "      <td>248000</td>\n",
       "      <td>0</td>\n",
       "      <td>0.0</td>\n",
       "      <td>0.0</td>\n",
       "      <td>0.0</td>\n",
       "    </tr>\n",
       "    <tr>\n",
       "      <th>3694</th>\n",
       "      <td>2019</td>\n",
       "      <td>Facebook</td>\n",
       "      <td>L7</td>\n",
       "      <td>500000</td>\n",
       "      <td>0</td>\n",
       "      <td>0.0</td>\n",
       "      <td>0.0</td>\n",
       "      <td>0.0</td>\n",
       "    </tr>\n",
       "    <tr>\n",
       "      <th>11003</th>\n",
       "      <td>2019</td>\n",
       "      <td>Microsoft</td>\n",
       "      <td>SDE I</td>\n",
       "      <td>10000</td>\n",
       "      <td>1000</td>\n",
       "      <td>1000.0</td>\n",
       "      <td>8000.0</td>\n",
       "      <td>10000.0</td>\n",
       "    </tr>\n",
       "    <tr>\n",
       "      <th>55840</th>\n",
       "      <td>2021</td>\n",
       "      <td>Tata Consultancy Services</td>\n",
       "      <td>l1</td>\n",
       "      <td>10000</td>\n",
       "      <td>4000</td>\n",
       "      <td>4000.0</td>\n",
       "      <td>2000.0</td>\n",
       "      <td>10000.0</td>\n",
       "    </tr>\n",
       "  </tbody>\n",
       "</table>\n",
       "<p>2306 rows × 8 columns</p>\n",
       "</div>"
      ],
      "text/plain": [
       "       year                    company                   level  \\\n",
       "1      2017                       eBay                    SE 2   \n",
       "6978   2019                     Amazon                  SDE II   \n",
       "6986   2019                      Cvent  Lead software engineer   \n",
       "6993   2019                     NetApp               Level III   \n",
       "6997   2019                       EPAM                      M2   \n",
       "...     ...                        ...                     ...   \n",
       "3716   2019                    Groupon                    PM 2   \n",
       "3720   2019                 Salesforce                Lead MTS   \n",
       "3694   2019                   Facebook                      L7   \n",
       "11003  2019                  Microsoft                   SDE I   \n",
       "55840  2021  Tata Consultancy Services                      l1   \n",
       "\n",
       "       totalyearlycompensation  basesalary  stockgrantvalue   bonus    total  \n",
       "1                       100000           0              0.0     0.0      0.0  \n",
       "6978                    160000           0              0.0     0.0      0.0  \n",
       "6986                    167000           0              0.0     0.0      0.0  \n",
       "6993                    129000           0              0.0     0.0      0.0  \n",
       "6997                     65000           0              0.0     0.0      0.0  \n",
       "...                        ...         ...              ...     ...      ...  \n",
       "3716                    150000           0              0.0     0.0      0.0  \n",
       "3720                    248000           0              0.0     0.0      0.0  \n",
       "3694                    500000           0              0.0     0.0      0.0  \n",
       "11003                    10000        1000           1000.0  8000.0  10000.0  \n",
       "55840                    10000        4000           4000.0  2000.0  10000.0  \n",
       "\n",
       "[2306 rows x 8 columns]"
      ]
     },
     "execution_count": 51,
     "metadata": {},
     "output_type": "execute_result"
    }
   ],
   "source": [
    "df_use[df_use['basesalary']<5000].sort_values(by='basesalary')"
   ]
  },
  {
   "cell_type": "code",
   "execution_count": 54,
   "id": "5b779e3b",
   "metadata": {},
   "outputs": [
    {
     "data": {
      "text/html": [
       "<div>\n",
       "<style scoped>\n",
       "    .dataframe tbody tr th:only-of-type {\n",
       "        vertical-align: middle;\n",
       "    }\n",
       "\n",
       "    .dataframe tbody tr th {\n",
       "        vertical-align: top;\n",
       "    }\n",
       "\n",
       "    .dataframe thead th {\n",
       "        text-align: right;\n",
       "    }\n",
       "</style>\n",
       "<table border=\"1\" class=\"dataframe\">\n",
       "  <thead>\n",
       "    <tr style=\"text-align: right;\">\n",
       "      <th></th>\n",
       "      <th>year</th>\n",
       "      <th>totalyearlycompensation</th>\n",
       "      <th>basesalary</th>\n",
       "      <th>stockgrantvalue</th>\n",
       "      <th>bonus</th>\n",
       "      <th>total</th>\n",
       "    </tr>\n",
       "  </thead>\n",
       "  <tbody>\n",
       "    <tr>\n",
       "      <th>count</th>\n",
       "      <td>62642.000000</td>\n",
       "      <td>6.264200e+04</td>\n",
       "      <td>6.264200e+04</td>\n",
       "      <td>6.264200e+04</td>\n",
       "      <td>62642.000000</td>\n",
       "      <td>6.264200e+04</td>\n",
       "    </tr>\n",
       "    <tr>\n",
       "      <th>mean</th>\n",
       "      <td>2020.062147</td>\n",
       "      <td>2.163004e+05</td>\n",
       "      <td>1.366873e+05</td>\n",
       "      <td>5.148608e+04</td>\n",
       "      <td>19334.746588</td>\n",
       "      <td>2.075081e+05</td>\n",
       "    </tr>\n",
       "    <tr>\n",
       "      <th>std</th>\n",
       "      <td>0.907770</td>\n",
       "      <td>1.380337e+05</td>\n",
       "      <td>6.136928e+04</td>\n",
       "      <td>8.187457e+04</td>\n",
       "      <td>26781.292040</td>\n",
       "      <td>1.351927e+05</td>\n",
       "    </tr>\n",
       "    <tr>\n",
       "      <th>min</th>\n",
       "      <td>2017.000000</td>\n",
       "      <td>1.000000e+04</td>\n",
       "      <td>0.000000e+00</td>\n",
       "      <td>0.000000e+00</td>\n",
       "      <td>0.000000</td>\n",
       "      <td>0.000000e+00</td>\n",
       "    </tr>\n",
       "    <tr>\n",
       "      <th>25%</th>\n",
       "      <td>2020.000000</td>\n",
       "      <td>1.350000e+05</td>\n",
       "      <td>1.080000e+05</td>\n",
       "      <td>0.000000e+00</td>\n",
       "      <td>1000.000000</td>\n",
       "      <td>1.270000e+05</td>\n",
       "    </tr>\n",
       "    <tr>\n",
       "      <th>50%</th>\n",
       "      <td>2020.000000</td>\n",
       "      <td>1.880000e+05</td>\n",
       "      <td>1.400000e+05</td>\n",
       "      <td>2.500000e+04</td>\n",
       "      <td>14000.000000</td>\n",
       "      <td>1.830000e+05</td>\n",
       "    </tr>\n",
       "    <tr>\n",
       "      <th>75%</th>\n",
       "      <td>2021.000000</td>\n",
       "      <td>2.640000e+05</td>\n",
       "      <td>1.700000e+05</td>\n",
       "      <td>6.500000e+04</td>\n",
       "      <td>26000.000000</td>\n",
       "      <td>2.600000e+05</td>\n",
       "    </tr>\n",
       "    <tr>\n",
       "      <th>max</th>\n",
       "      <td>2021.000000</td>\n",
       "      <td>4.980000e+06</td>\n",
       "      <td>1.659870e+06</td>\n",
       "      <td>2.800000e+06</td>\n",
       "      <td>1000000.000000</td>\n",
       "      <td>3.046000e+06</td>\n",
       "    </tr>\n",
       "  </tbody>\n",
       "</table>\n",
       "</div>"
      ],
      "text/plain": [
       "               year  totalyearlycompensation    basesalary  stockgrantvalue  \\\n",
       "count  62642.000000             6.264200e+04  6.264200e+04     6.264200e+04   \n",
       "mean    2020.062147             2.163004e+05  1.366873e+05     5.148608e+04   \n",
       "std        0.907770             1.380337e+05  6.136928e+04     8.187457e+04   \n",
       "min     2017.000000             1.000000e+04  0.000000e+00     0.000000e+00   \n",
       "25%     2020.000000             1.350000e+05  1.080000e+05     0.000000e+00   \n",
       "50%     2020.000000             1.880000e+05  1.400000e+05     2.500000e+04   \n",
       "75%     2021.000000             2.640000e+05  1.700000e+05     6.500000e+04   \n",
       "max     2021.000000             4.980000e+06  1.659870e+06     2.800000e+06   \n",
       "\n",
       "                bonus         total  \n",
       "count    62642.000000  6.264200e+04  \n",
       "mean     19334.746588  2.075081e+05  \n",
       "std      26781.292040  1.351927e+05  \n",
       "min          0.000000  0.000000e+00  \n",
       "25%       1000.000000  1.270000e+05  \n",
       "50%      14000.000000  1.830000e+05  \n",
       "75%      26000.000000  2.600000e+05  \n",
       "max    1000000.000000  3.046000e+06  "
      ]
     },
     "execution_count": 54,
     "metadata": {},
     "output_type": "execute_result"
    }
   ],
   "source": [
    "df_use.describe()"
   ]
  },
  {
   "cell_type": "code",
   "execution_count": null,
   "id": "e9385de5",
   "metadata": {},
   "outputs": [],
   "source": []
  },
  {
   "cell_type": "code",
   "execution_count": null,
   "id": "1d2eba71",
   "metadata": {},
   "outputs": [],
   "source": []
  },
  {
   "cell_type": "code",
   "execution_count": 7,
   "id": "7850e55e",
   "metadata": {},
   "outputs": [],
   "source": [
    "df.to_excel('Levels_Salary_Data_2017-2022.xlsx',index=True, header=True)"
   ]
  },
  {
   "cell_type": "markdown",
   "id": "60efdfbc",
   "metadata": {},
   "source": [
    "<note>\n",
    "    \n",
    "Junior = 1 - 4 years\n",
    "Mid-level = 5-9 years\n",
    "Senior = 10+ years\n",
    "\n",
    "or \n",
    "0-1 years\n",
    "104 years\n",
    "5-9 years\n",
    "10-19 years\n",
    "20 years and above\n",
    "\n",
    "Living cost\n"
   ]
  },
  {
   "cell_type": "markdown",
   "id": "1b575759",
   "metadata": {},
   "source": [
    "Introduction of team?"
   ]
  },
  {
   "cell_type": "markdown",
   "id": "4377c839",
   "metadata": {},
   "source": [
    "## Appendix"
   ]
  },
  {
   "cell_type": "markdown",
   "id": "b4cc0795",
   "metadata": {},
   "source": [
    "<draft>\n",
    "Best Jobs in America 2022 Employees' Choice (2022). Glassdoor. Retrived on May 3, 2022 from\n",
    "https://www.glassdoor.com/List/Best-Jobs-in-America-LST_KQ0,20.htm\n",
    "\n",
    "Data Scientist Salary-The Ultimate Guide for 2021 (2022). ProjectPro. Retrived on May 3, 2022 from https://www.projectpro.io/article/data-scientist-salary-the-ultimate-guide-for-2021/218\n",
    "\n",
    "Davenport, T H. & Patil, DJ. (2012). Data Scientist: The Sexiest Job of the 21st Century. *HARVARD BUSINESS REVIEW*. Retrieved on 3 May, 2022 from https://hbr.org/2012/10/data-scientist-the-sexiest-job-of-the-21st-century\n",
    "\n",
    "Martin, I., Mariello, A., Battiti, R. & Hernandez, J A. (2018). Salary Prediction in the IT Job Market with Few High-Dimensional Samples: A Spanish Case Study. *International Journal of Computational Intelligence Systems, 11, 1192-1209*. https://libkey.io/libraries/2611/articles/225996272/full-text-file   \n",
    "    \n",
    "    \n",
    "Miller, H., Seckel, Ea., White, CL., et al. (2021). Gender-based salary differences in academic medicine: a retrospective review of data from six public medical centers in the Western USA. http://dx.doi.org/10.1136/bmjopen-2021-059216\n",
    "    \n",
    "Seaman, A. (2021). LinkedIn Jobs on the Rise: 15 opportunities that are in demand and hiring now. Retrieved on May 3, 2022 from https://www.linkedin.com/pulse/linkedin-jobs-rise-15-opportunities-demand-hiring-now-andrew-seaman/\n",
    "    "
   ]
  }
 ],
 "metadata": {
  "kernelspec": {
   "display_name": "Python 3 (ipykernel)",
   "language": "python",
   "name": "python3"
  },
  "language_info": {
   "codemirror_mode": {
    "name": "ipython",
    "version": 3
   },
   "file_extension": ".py",
   "mimetype": "text/x-python",
   "name": "python",
   "nbconvert_exporter": "python",
   "pygments_lexer": "ipython3",
   "version": "3.9.7"
  }
 },
 "nbformat": 4,
 "nbformat_minor": 5
}
